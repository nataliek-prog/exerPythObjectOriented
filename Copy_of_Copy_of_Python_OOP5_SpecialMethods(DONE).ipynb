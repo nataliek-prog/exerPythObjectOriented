{
  "cells": [
    {
      "cell_type": "markdown",
      "metadata": {
        "id": "view-in-github",
        "colab_type": "text"
      },
      "source": [
        "<a href=\"https://colab.research.google.com/github/nataliek-prog/exerPythObjectOriented/blob/master/Copy_of_Copy_of_Python_OOP5_SpecialMethods(DONE).ipynb\" target=\"_parent\"><img src=\"https://colab.research.google.com/assets/colab-badge.svg\" alt=\"Open In Colab\"/></a>"
      ]
    },
    {
      "cell_type": "markdown",
      "id": "e8f00c6f",
      "metadata": {
        "deletable": false,
        "editable": false,
        "nbgrader": {
          "cell_type": "markdown",
          "checksum": "664d8c6a61d7f3d697d3f7ddcace1449",
          "grade": false,
          "grade_id": "cell-1001d7d26a4580f4",
          "locked": true,
          "schema_version": 3,
          "solution": false,
          "task": false
        },
        "id": "e8f00c6f"
      },
      "source": [
        "# Python OOP5 - Special (Magic/Dunder) Methods"
      ]
    },
    {
      "cell_type": "markdown",
      "id": "c9179e55",
      "metadata": {
        "deletable": false,
        "editable": false,
        "nbgrader": {
          "cell_type": "markdown",
          "checksum": "0e6b9896ed0a1123419d05088f7c71cb",
          "grade": false,
          "grade_id": "cell-581e18b74ab904a2",
          "locked": true,
          "schema_version": 3,
          "solution": false,
          "task": false
        },
        "id": "c9179e55"
      },
      "source": [
        "### Instructions\n",
        "\n",
        "* Watch the video tutorial about the os module at https://www.youtube.com/watch?v=3ohzBxoFHAY\n",
        "* Complete the programming exercises below as you go through the tutorial.\n",
        "* Delete or comment out the line of code in each cell which says `raise NotImplementedError()` and replace it with your own.\n",
        "* Note: Some cells may have some code provided as a starting point, however, you may need to verify the variable names in the code provided match the way the presenter has spelled his variable names. If you get an error, make sure the variable names match the variable names in the video.\n",
        "\n",
        "### Exercises"
      ]
    },
    {
      "cell_type": "markdown",
      "id": "daef42bd",
      "metadata": {
        "deletable": false,
        "editable": false,
        "nbgrader": {
          "cell_type": "markdown",
          "checksum": "d69e494528975f86385e88f0e69adf2a",
          "grade": false,
          "grade_id": "cell-646f0a5643dfed1c",
          "locked": true,
          "schema_version": 3,
          "solution": false,
          "task": false
        },
        "id": "daef42bd"
      },
      "source": [
        "Write code in the cell below.\n",
        "\n",
        "* Create the `__repr__()` method for the `Employee` class below.\n",
        "* Create the `__str__()` method for the `Employee` class below.\n",
        "* Print the results for `__repr__(emp_1)`.\n",
        "* Print the results for `__str__(emp_1)`.\n",
        "* Create the `__add__()` method for the `Employee` class below.\n",
        "* Create the `__len__()` method for the `Employee` class below."
      ]
    },
    {
      "cell_type": "code",
      "execution_count": null,
      "id": "de561102",
      "metadata": {
        "deletable": false,
        "nbgrader": {
          "cell_type": "code",
          "checksum": "20741e39e0330c7a3988c4cfdf0838f4",
          "grade": true,
          "grade_id": "cell-adb4415e61c7da1a",
          "locked": false,
          "points": 4,
          "schema_version": 3,
          "solution": true,
          "task": false
        },
        "id": "de561102",
        "outputId": "717f883b-1258-48d4-dafe-52e53cdd4a69",
        "colab": {
          "base_uri": "https://localhost:8080/"
        }
      },
      "outputs": [
        {
          "output_type": "stream",
          "name": "stdout",
          "text": [
            "13\n",
            "Empolyee('Corey', 'Schafer', 50000)\n",
            "Corey Schafer - Corey.Schafer@email.com\n"
          ]
        }
      ],
      "source": [
        "from ctypes import Structure\n",
        "class Employee:\n",
        "\n",
        "    raise_amount = 1.04\n",
        "\n",
        "    def __init__(self, first, last, pay):\n",
        "        self.first = first\n",
        "        self.last = last\n",
        "        self.pay = pay\n",
        "        self.email = first + '.' + last + '@email.com'\n",
        "\n",
        "\n",
        "    def fullname(self):\n",
        "        return '{} {}'.format(self.first, self.last, self.pay)\n",
        "\n",
        "    def apply_raise(self):\n",
        "        self.pay = int(self.pay * self.raise_amount)\n",
        "\n",
        "    def __repr__(self):\n",
        "      return \"Empolyee('{}', '{}', {})\".format(self.first, self.last, self.pay)\n",
        "\n",
        "    def __str__(self):\n",
        "      return '{} - {}'.format(self.fullname(), self.email)\n",
        "\n",
        "    def __add__(self, other):\n",
        "      return self.pay + other.pay\n",
        "\n",
        "    def __len__(self):\n",
        "      return len(self.fullname())\n",
        "\n",
        "emp_1 = Employee('Corey', 'Schafer', 50000)\n",
        "emp_2 = Employee('Test', 'User', 60000)\n",
        "\n",
        "#print(emp_1 + emp_2)\n",
        "print (len(emp_1))\n",
        "\n",
        "#print(repr(emp_1))\n",
        "#str(str(emp_1))\n",
        "\n",
        "print(emp_1.__repr__())\n",
        "print(emp_1.__str__())\n",
        "\n",
        "\n"
      ]
    },
    {
      "cell_type": "code",
      "source": [],
      "metadata": {
        "id": "uXOuhwKZ9NZJ"
      },
      "id": "uXOuhwKZ9NZJ",
      "execution_count": null,
      "outputs": []
    }
  ],
  "metadata": {
    "kernelspec": {
      "display_name": "Python 3",
      "language": "python",
      "name": "python3"
    },
    "language_info": {
      "codemirror_mode": {
        "name": "ipython",
        "version": 3
      },
      "file_extension": ".py",
      "mimetype": "text/x-python",
      "name": "python",
      "nbconvert_exporter": "python",
      "pygments_lexer": "ipython3",
      "version": "3.8.8"
    },
    "colab": {
      "provenance": [],
      "include_colab_link": true
    }
  },
  "nbformat": 4,
  "nbformat_minor": 5
}